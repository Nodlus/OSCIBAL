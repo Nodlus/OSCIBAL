% Define parameters
keq = 10; % Spring constant
Jeq = 5; % Equivalent moment of inertia
damping_factor = 0.2; % Damping factor

% Time settings
t_start = 0;
t_end = 20;
dt = 0.01; % Time step

% Initial conditions
x0 = 1; % Initial displacement
v0 = 0; % Initial velocity

% Pre-allocate arrays
t = t_start:dt:t_end;
x = zeros(size(t));
v = zeros(size(t));

% Initial conditions
x(1) = x0;
v(1) = v0;

% Simulation loop
for i = 2:length(t)
    % Calculate acceleration
    acceleration = - (keq/Jeq) * x(i-1) - damping_factor * v(i-1);
    
    % Update velocity and position using Euler's method
    v(i) = v(i-1) + acceleration * dt;
    x(i) = x(i-1) + v(i) * dt;
end

% Plotting
figure;
plot(t, x, 'b');
xlabel('Time');
ylabel('Displacement');
title('Oscillator with Damping');
grid on;
