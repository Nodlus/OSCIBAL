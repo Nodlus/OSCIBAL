{
 "cells": [
  {
   "cell_type": "code",
   "execution_count": 1,
   "id": "b0d722a1-3944-49bd-bd61-e3f46660f5c1",
   "metadata": {
    "execution": {
     "iopub.execute_input": "2024-04-17T09:07:33.287682Z",
     "iopub.status.busy": "2024-04-17T09:07:33.286028Z",
     "iopub.status.idle": "2024-04-17T09:07:34.564708Z",
     "shell.execute_reply": "2024-04-17T09:07:34.561747Z",
     "shell.execute_reply.started": "2024-04-17T09:07:33.287625Z"
    },
    "tags": []
   },
   "outputs": [
    {
     "name": "stdout",
     "output_type": "stream",
     "text": [
      "warning: using the gnuplot graphics toolkit is discouraged\n",
      "\n",
      "The gnuplot graphics toolkit is not actively maintained and has a number\n",
      "of limitations that are ulikely to be fixed.  Communication with gnuplot\n",
      "uses a one-directional pipe and limited information is passed back to the\n",
      "Octave interpreter so most changes made interactively in the plot window\n",
      "will not be reflected in the graphics properties managed by Octave.  For\n",
      "example, if the plot window is closed with a mouse click, Octave will not\n",
      "be notified and will not update it's internal list of open figure windows.\n",
      "We recommend using the qt toolkit instead.\n",
      "\n"
     ]
    },
    {
     "data": {
      "image/png": "[encoded data removed]",
      "text/plain": [
       "<IPython.core.display.Image object>"
      ]
     },
     "metadata": {},
     "output_type": "display_data"
    }
   ],
   "source": [
    "% Define parameters\n",
    "keq = 10; % Spring constant\n",
    "Jeq = 5; % Equivalent moment of inertia\n",
    "damping_factor = 0.2; % Damping factor\n",
    "\n",
    "% Time settings\n",
    "t_start = 0;\n",
    "t_end = 20;\n",
    "dt = 0.01; % Time step\n",
    "\n",
    "% Initial conditions\n",
    "x0 = 1; % Initial displacement\n",
    "v0 = 0; % Initial velocity\n",
    "\n",
    "% Pre-allocate arrays\n",
    "t = t_start:dt:t_end;\n",
    "x = zeros(size(t));\n",
    "v = zeros(size(t));\n",
    "\n",
    "% Initial condition\n",
    "x(1) = x0;\n",
    "v(1) = v0;\n",
    "\n",
    "% Simulation loop\n",
    "for i = 2:length(t)\n",
    "    % Calculate acceleration\n",
    "    acceleration = - (keq/Jeq) * x(i-1) - damping_factor * v(i-1);\n",
    "    \n",
    "    % Update velocity and position using Euler's method\n",
    "    v(i) = v(i-1) + acceleration * dt;\n",
    "    x(i) = x(i-1) + v(i) * dt;\n",
    "end\n",
    "\n",
    "% Plotting\n",
    "figure;\n",
    "plot(t, x, 'b');\n",
    "xlabel('Time');\n",
    "ylabel('Displacement');\n",
    "title('Oscillator with Damping');\n",
    "grid on;\n"
   ]
  },
  {
   "cell_type": "code",
   "execution_count": null,
   "id": "660db787-3f77-4c57-9d4f-fd29ebc02d7a",
   "metadata": {},
   "outputs": [],
   "source": []
  }
 ],
 "metadata": {
  "kernelspec": {
   "display_name": "Octave",
   "language": "octave",
   "name": "octave"
  },
  "language_info": {
   "file_extension": ".m",
   "help_links": [
    {
     "text": "GNU Octave",
     "url": "https://www.gnu.org/software/octave/support.html"
    },
    {
     "text": "Octave Kernel",
     "url": "https://github.com/Calysto/octave_kernel"
    },
    {
     "text": "MetaKernel Magics",
     "url": "https://metakernel.readthedocs.io/en/latest/source/README.html"
    }
   ],
   "mimetype": "text/x-octave",
   "name": "octave",
   "version": "6.4.0"
  }
 },
 "nbformat": 4,
 "nbformat_minor": 5
}
