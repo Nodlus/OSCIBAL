<!DOCTYPE HTML>
<html>
  
<head>
    <meta charset="utf-8">

    <title>JupyterHub</title>
    <meta http-equiv="X-UA-Compatible" content="chrome=1">
    <meta name="viewport" content="width=device-width, initial-scale=1.0">

    <!-- Favicons -->
    <link rel="icon" type="image/png" sizes="228x228" href="/hub/static/elements/favicons/favicon-228.png?v=b35494077103d8b60ba7327e332dfdb9e1bad3f027a04619bb6d4667db305b0b55ff469205ed65435b8834fd78da0e3de64ac780e645f2510ec91c0e8e103cd0">
    <link rel="icon" type="image/png" sizes="180x180" href="/hub/static/elements/favicons/favicon-180.png?v=e77edb643dcdaf2e591732a81faf1495bed5c6c1f97ee44f6463240cbd3d4a9b8f03f7dbfcef61f4f9f0495e1c78dc7b484a86a4a69ed56369ff29c595888a4d">
    <link rel="icon" type="image/png" sizes="152x152" href=/hub/static/elements/favicons/favicon-152.png?v=ac5a0417463af6b28f5ca483125b754173813d074e2ef902e2ba6020ec8ae5d9aa05c67439b03f68834a2c5a183a0e00abadda31e0842fd9cc80aeaf5a69474c">
    <link rel="icon" type="image/png" sizes="144x144" href=/hub/static/elements/favicons/favicon-144.png?v=6ceebc9de3d1ca4710b113ece4d17d8e8b77066c173c6d64476755b5741bc331bd760299751a8410b609365db3111010796748f62be7e7d8be85c7049a2ada6c">
    <link rel="icon" type="image/png" sizes="128x128" href=/hub/static/elements/favicons/favicon-128.png?v=cee9ed26e562454c8501a6d2106d60cbfcd1f4884da520e03fe883eba77a8cc0d0c24924d6fb5d3ca8d96b0941553597f8b7eef4c146ba5e1919bdbca6b0ab83">
    <link rel="icon" type="image/png" sizes="120x120" href=/hub/static/elements/favicons/favicon-120.png?v=0286ceebb3423e17e8878b64e89309ad9bbc90c34b3e7a8a007414c6acbcd86f15d05991f9ae3257a4bb1de0ad427c0b4cfb1c9093a459ce07a311f8b6aa1555">
    <link rel="icon" type="image/png" sizes="96x96" href=/hub/static/elements/favicons/favicon-96.png?v=8806bfd2109e78b8d83070d1994f26c73c40733c147cbd4d8b7437660cb063effcb263a59bf62accd04604ece4946de4518d3af50a909a4df244e0e9cd5c8d92">
    <link rel="icon" type="image/png" sizes="76x76" href=/hub/static/elements/favicons/favicon-76.png?v=d100e3f57056784dd2b0d68863a10c6df627b35d9770be3858736bb369bfe28f70db826add78e30fb6508b5e25a33b336927382dfd3cf614e2334a1e1d6c0406">
    <link rel="icon" type="image/png" sizes="57x57" href=/hub/static/elements/favicons/favicon-57.png?v=4202b36b67d17c337d336d4f75bbd1009719f9ad9113c65ec0d3f1969949dfbeb32735d8673b9633e86a68d1e0cb4b6b38189cd40f7d8d9329ac5f41b4ab0b1a">
    <link rel="icon" type="image/png" sizes="32x32" href=/hub/static/elements/favicons/favicon-32.png?v=4351939913ead7babac1d9cb17f2373b037b2005c2ad25c5f95b982a5f57f2ead92a2497fcb13e6f878dd13b561108bc46072248ead0ab0797ecf46c27def68d">
    <link rel="icon" type="image/png" sizes="16x16" href=/hub/static/elements/favicons/favicon-16.png?v=c039f92213cafc5a39d6c3652a210fbc42de0b39e3ab025a3b7aabd3bd20463374312a5921bd9781f6d7a7260ab34162a6f83b6803f1d82a448957dbfe3537fc">
    <link rel="apple-touch-icon" sizes="180x180" href=/hub/static/elements/favicons/apple-touch-icon.png?v=cd21eb3df1207a3437f2e1a7b54d6461e8e06ff3148a23cd04560c37accf18ead42967cf8ba930e15478b6b6141ff3292713c851d711950ac7032dcf1fca01a3">
    <link rel="manifest" href=/hub/static/elements/favicons/site.webmanifest?v=095b2a73577c298837c434d68b4cdc95acf1bd3b430101f79a8b2593ca1a615bf6e755d282e4d354637c320c380874942ed720cd9e65bc44010cf9313127ef75">
    <meta name="msapplication-TileColor" content="#ffffff">
    <meta name="theme-color" content="#e30713">
    <!-- end favicons -->

    
    <link rel="stylesheet" href="/hub/static/elements/css/vendors.min.css?v=f1428fe73df56bcde2d83caaba9535fba828ee219b7c4c9e94e0308716f7f2ad500fe12d76256dffe5314666946c7cca22f6b2771ccfd485e7a4541b0c84722a" type="text/css"/>
    <link rel="stylesheet" href="/hub/static/elements/css/elements.min.css?v=b38ff755821590e68f31aac0eb74e8a4143f94c8f8aa60e5c84723fc99fe72b3fece228e46a79c21a48e79cab4b9c632edb8c8a3f361ecdc18ea5c58e3e54815" type="text/css"/>
    
    
    <link rel="icon" href="/hub/static/favicon.ico?v=fde5757cd3892b979919d3b1faa88a410f28829feb5ba22b6cf069f2c6c98675fceef90f932e49b510e74d65c681d5846b943e7f7cc1b41867422f0481085c1f" type="image/x-icon">
    
        
    <script src="https://code.jquery.com/jquery-3.3.1.min.js"></script>
    <script src="/hub/static/elements/js/vendors.min.js?v=c081094b7b01838e5fac8288287bd98e69a45e8973176828bf822f8540a2375d9d7c33451b4101c88fd30ad6eb983a52e4bf402d164ebade1dbea20f0da47b7f"></script>
    <script src="/hub/static/elements/js/elements.min.js?v=0bdb762fe346cc83fd9841968f5b8b490cf2b993ac1838d6b8c792f81ac3b534e554ffc5650fc1fc328c9b91e064fe5db1216fcde2a9191052057cd21bda042c"></script>
    <script src="/hub/static/components/requirejs/require.js?v=bd1aa102bdb0b27fbf712b32cfcd29b016c272acf3d864ee8469376eaddd032cadcf827ff17c05a8c8e20061418fe58cf79947049f5c0dff3b4f73fcc8cad8ec" type="text/javascript" charset="utf-8"></script>
    

    <script>
      require.config({
          
          urlArgs: "v=20240414113203",
          
          baseUrl: '/hub/static/js',
          paths: {
            components: '../components',
            jquery: '../components/jquery/dist/jquery.min',
            bootstrap: '../components/bootstrap/dist/js/bootstrap.min',
            moment: "../components/moment/moment",
          },
          shim: {
            bootstrap: {
              deps: ["jquery"],
              exports: "bootstrap"
            },
          }
      });
    </script>

    <script type="text/javascript">
      window.svgPath = '/hub/static/elements/icons/icons.svg?v=a0b9d1291f935fdcaf78b559086b1778efec9c43b805bf36f26c661b5b0a1e787fb8d1e98c702cd46a20b19194a4a568921cbf67e8f5c37ff991920edd3a713c';
      window.featherSvgPath = '/hub/static/elements/icons/feather-sprite.svg?v=9c61671d14f1401cf9a0828e73ed854ddae425ba3de284e3d664a9cf347f4686bb768321f943596a0c4dd85c6aac853c083972e8620ae7b52803fde5b20f2106';
    </script>
    
    <script type="text/javascript">
      window.jhdata = {
        base_url: "/hub/",
        prefix: "/",
        
        user: "ch-epfl-342907",
        
        
        admin_access: false,
        
        
        options_form: false,
        
      }
    </script>

    
    
    
    
      <script>
        var _paq = window._paq = window._paq || [];
        /* tracker methods like "setCustomDimension" should be called before "trackPageView" */
        _paq.push(['trackPageView']);
        _paq.push(['enableLinkTracking']);
        (function() {
          var u='//cedelogger.epfl.ch/';
          _paq.push(['setTrackerUrl', u+'matomo.php']);
          _paq.push(['setSiteId', 3]);
          var d=document, g=d.createElement('script'), s=d.getElementsByTagName('script')[0];
          g.async=true; g.src=u+'matomo.js'; s.parentNode.insertBefore(g,s);
        })();
      </script>
    
</head>

<body class="d-block">
  <div class="d-flex flex-column" style="height: 100vh;">
    <noscript>
      <div id='noscript'>
        JupyterHub requires JavaScript.<br>
        Please enable it to proceed.
      </div>
    </noscript>
    
      <header role="banner" class="header" style="min-height:60px; flex: none;">
        
        <a class="logo" href="https://www.epfl.ch">
          <img src="/hub/static/elements/svg/epfl-logo.svg?v=8f033b1ddd8da948acefc01a9b6dc09501b4ba0dbd78817654849367652fc08693862a3573a788660520a6c02c69295af6fe2e6f85674fa9467c313f0edb61e2" alt="Logo EPFL, École polytechnique fédérale de Lausanne"
            title="Home" class="img-fluid">
        </a>
        
      
        
        <ul aria-hidden="true" class="nav-header d-flex flex-grow-0">
          
          <li><a class="nav-item" href="/hub/home">Home</a></li>
          <li><a class="nav-item" href="/hub/token">Token</a></li>
          
          
        </ul>
        
      
        <nav class="ml-auto d-flex flex-row align-items-center mr-xl-5 mr-2">
          <ul class="list-inline p-0 m-0">
            
      
            
            
            <li class="d-none d-md-inline">ch-epfl-342907</li>
            
            <li>
              

            </li>
            
          </ul>
        </nav>
      </header>
    

    
      
    

    


<div
  id="error-dialog"
  class="_d-none py-3 px-xl-5 px-3 bg-danger text-white"
  style="display: none;"
  role="alert"
>
  <strong id="error-label">Error</strong><br>
  
      <div class="ajax-error">
        The error
      </div>
    
</div>


    <div
      id="insecure-login-warning"
      class="d-none py-3 px-xl-5 px-3 bg-danger text-white"
      role="alert"
      >
      <strong>JupyterHub seems to be served over an unsecured HTTP connection.</strong><br>
      We strongly recommend enabling HTTPS for JupyterHub.
    </div>

    <div class="flex-grow-1 bg-gray-100">
      

<div class="d-flex flex-column h-100 align-items-center justify-content-center bg-danger text-white">
  
  <h1>
    403 Forbidden
  </h1>
  
  
  
  <p>
    You do not have permission to access Server at /user/ch-epfl-341942/
  </p>
  
  
  
  
</div>


    </div>

    
    <footer role="contentinfo" class="text-sm text-muted text-center text-md-left">
      <div class="container py-3">
        <div class="d-md-flex justify-content-between">
          <ul class="list-inline has-sep m-md-0">
            <li><a href="mailto:noto-support@groupes.epfl.ch">noto-support@groupes.epfl.ch</a></li>
          </ul>
          <div>
            <p class="m-0">&copy; 2019-<span id="current_year">2023</span> EPFL, provided by the <a href="https://www.epfl.ch/education/educational-initiatives/cede/" target="_blank" rel="noopener noreferrer">Center for Digital Education</a></p>
          </div>
        </div>
      </div>
    </footer>
    
  </div>

  
  
      <script>
        if (window.location.protocol === "http:") {
          // unhide http warning
          var warning = document.getElementById("insecure-login-warning");
          warning.className = warning.className.replace(/\bd-none\b/, "");
        }

        // write the current year to the footer so PO doesnt have to open a ticket every year
        document.getElementById('current_year').innerHTML = new Date().getFullYear();
      </script>
    

  <script type="text/javascript">
    function _remove_redirects_from_url() {
      if (window.location.search.length <= 1) {
        return;
      }
      var search_parameters = window.location.search.slice(1).split('&');
      for (var i = 0; i < search_parameters.length; i++) {
        if (search_parameters[i].split('=')[0] === 'redirects') {
          // remote redirects from search parameters
          search_parameters.splice(i, 1);
          var new_search = '';
          if (search_parameters.length) {
            new_search = '?' + search_parameters.join('&');
          }
          var new_url = window.location.origin +
                        window.location.pathname +
                        new_search +
                        window.location.hash;
          window.history.replaceState({}, "", new_url);
          return;
        }
      }
    }

    _remove_redirects_from_url();
  </script>

</body>

</html>