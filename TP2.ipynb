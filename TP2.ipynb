{
 "cells": [
  {
   "cell_type": "markdown",
   "metadata": {
    "deletable": false,
    "editable": false,
    "run_control": {
     "frozen": true
    }
   },
   "source": [
    "# ICS - TP2"
   ]
  },
  {
   "cell_type": "markdown",
   "metadata": {
    "deletable": false,
    "editable": false,
    "run_control": {
     "frozen": true
    }
   },
   "source": [
    "Le **but** de cette séance est de vous permette d'approfondir vos connaissances concernant :\n",
    "-\tla structures du code Python (et particulièrement les notions d'**instruction** et d'**expression**) ;\n",
    "-\tles type simples (**bool**, **int**, **float** et **complex**) et les **opérateurs** associés ;\n",
    "-\tles instructions structurées de **contrôle de flux**."
   ]
  },
  {
   "cell_type": "markdown",
   "metadata": {
    "deletable": false,
    "editable": false,
    "run_control": {
     "frozen": true
    }
   },
   "source": [
    "## Exercice 1"
   ]
  },
  {
   "cell_type": "markdown",
   "metadata": {
    "deletable": false,
    "editable": false,
    "run_control": {
     "frozen": true
    }
   },
   "source": [
    "On vous propose ci-dessous plusieurs cellules Juypter Notebook avec du code et on vous demande :\n",
    "-\td'anticiper **d'abord** les résultats obtenus suite à l'exécution de chacune de ces cellules ;\n",
    "-\tde vérifier **ensuite** vos suppositions en exécutant chacune de ces cellules ;\n",
    "-\tde comprendre **finalement** les causes d'éventuelles différences entre ce que vous pensiez et ce que s'est passé à l'exécution.\n",
    "\n",
    "Certaines instructions produisent des **erreurs** et on vous invite à comprendre leurs causes, de corriger ou de commenter les fautes et de réexécuter les cellules respectives."
   ]
  },
  {
   "cell_type": "markdown",
   "metadata": {
    "deletable": false,
    "editable": false,
    "run_control": {
     "frozen": true
    }
   },
   "source": [
    "#### Plusieurs variables (x, y, z, t et u ci-dessous) peuvent avoir apparemment la \"même\" valeur mais des types et des identités différentes."
   ]
  },
  {
   "cell_type": "code",
   "execution_count": 1,
   "metadata": {},
   "outputs": [
    {
     "name": "stdout",
     "output_type": "stream",
     "text": [
      "5\n",
      "<class 'int'>\n",
      "1771022320\n",
      "*****************\n",
      "5.0\n",
      "<class 'float'>\n",
      "103016064\n",
      "*****************\n",
      "5.0\n",
      "<class 'float'>\n",
      "85466176\n",
      "*****************\n",
      "(5+0j)\n",
      "<class 'complex'>\n",
      "103143592\n",
      "*****************\n",
      "5\n",
      "<class 'str'>\n",
      "31165472\n"
     ]
    }
   ],
   "source": [
    "x = 5\n",
    "y = float(5)\n",
    "z = 5.\n",
    "t = complex(5)\n",
    "u = '5'\n",
    "print(x)\n",
    "print(type(x))\n",
    "print(id(x))\n",
    "print('*****************')\n",
    "print(y)\n",
    "print(type(y))\n",
    "print(id(y))\n",
    "print('*****************')\n",
    "print(z)\n",
    "print(type(z))\n",
    "print(id(z))\n",
    "print('*****************')\n",
    "print(t)\n",
    "print(type(t))\n",
    "print(id(t))\n",
    "print('*****************')\n",
    "print(u)\n",
    "print(type(u))\n",
    "print(id(u))"
   ]
  },
  {
   "cell_type": "markdown",
   "metadata": {
    "deletable": false,
    "editable": false,
    "run_control": {
     "frozen": true
    }
   },
   "source": [
    "#### On ne peut pas utiliser (le nom d') une variable avant de l'avoir définie."
   ]
  },
  {
   "cell_type": "code",
   "execution_count": 2,
   "metadata": {},
   "outputs": [
    {
     "ename": "NameError",
     "evalue": "name 'v' is not defined",
     "output_type": "error",
     "traceback": [
      "\u001b[1;31m---------------------------------------------------------------------------\u001b[0m",
      "\u001b[1;31mNameError\u001b[0m                                 Traceback (most recent call last)",
      "\u001b[1;32m<ipython-input-2-d789cd3ef96c>\u001b[0m in \u001b[0;36m<module>\u001b[1;34m\u001b[0m\n\u001b[0;32m      1\u001b[0m \u001b[0mx\u001b[0m \u001b[1;33m=\u001b[0m \u001b[1;36m10\u001b[0m\u001b[1;33m\u001b[0m\u001b[1;33m\u001b[0m\u001b[0m\n\u001b[0;32m      2\u001b[0m \u001b[0my\u001b[0m \u001b[1;33m=\u001b[0m \u001b[0mx\u001b[0m\u001b[1;33m\u001b[0m\u001b[1;33m\u001b[0m\u001b[0m\n\u001b[1;32m----> 3\u001b[1;33m \u001b[0mx\u001b[0m \u001b[1;33m=\u001b[0m \u001b[0mv\u001b[0m\u001b[1;33m\u001b[0m\u001b[1;33m\u001b[0m\u001b[0m\n\u001b[0m",
      "\u001b[1;31mNameError\u001b[0m: name 'v' is not defined"
     ]
    }
   ],
   "source": [
    "x = 10\n",
    "y = x\n",
    "x = v"
   ]
  },
  {
   "cell_type": "markdown",
   "metadata": {
    "deletable": false,
    "editable": false,
    "run_control": {
     "frozen": true
    }
   },
   "source": [
    "#### On peut vérifier si un mot (en tant que chaîne de caractères de type **str**) est un **mot clé** ou pas."
   ]
  },
  {
   "cell_type": "code",
   "execution_count": 3,
   "metadata": {
    "scrolled": true
   },
   "outputs": [
    {
     "name": "stdout",
     "output_type": "stream",
     "text": [
      "True\n",
      "True\n"
     ]
    }
   ],
   "source": [
    "import keyword\n",
    "print(keyword.iskeyword('if'))\n",
    "print(keyword.iskeyword('del'))\n"
   ]
  },
  {
   "cell_type": "markdown",
   "metadata": {
    "deletable": false,
    "editable": false,
    "run_control": {
     "frozen": true
    }
   },
   "source": [
    "#### L'ordre (temporelle) des instructions compte !"
   ]
  },
  {
   "cell_type": "code",
   "execution_count": 4,
   "metadata": {},
   "outputs": [
    {
     "name": "stdout",
     "output_type": "stream",
     "text": [
      "x vaut 10 et y vaut 3.14 !\n"
     ]
    }
   ],
   "source": [
    "x = 10\n",
    "y = 3.14\n",
    "\n",
    "print('x vaut', x, 'et y vaut', y, '!')"
   ]
  },
  {
   "cell_type": "code",
   "execution_count": 5,
   "metadata": {},
   "outputs": [
    {
     "name": "stdout",
     "output_type": "stream",
     "text": [
      "x vaut 10 et y vaut 10 !\n"
     ]
    }
   ],
   "source": [
    "x = 10\n",
    "y = 3.14\n",
    "y = x\n",
    "x = y\n",
    "print('x vaut', x, 'et y vaut', y, '!')"
   ]
  },
  {
   "cell_type": "markdown",
   "metadata": {
    "deletable": false,
    "editable": false,
    "run_control": {
     "frozen": true
    }
   },
   "source": [
    "#### Affectations"
   ]
  },
  {
   "cell_type": "code",
   "execution_count": 8,
   "metadata": {},
   "outputs": [
    {
     "name": "stdout",
     "output_type": "stream",
     "text": [
      "x = 10 et y = 10 et z =  10\n"
     ]
    }
   ],
   "source": [
    "x = y = z = 10\n",
    "print('x =', x, 'et y =', y, 'et z = ', z) "
   ]
  },
  {
   "cell_type": "code",
   "execution_count": 6,
   "metadata": {},
   "outputs": [
    {
     "name": "stdout",
     "output_type": "stream",
     "text": [
      "u = 3 et v = 5\n"
     ]
    }
   ],
   "source": [
    "u, v = 3, 5\n",
    "print('u =', u, 'et v =', v)    "
   ]
  },
  {
   "cell_type": "code",
   "execution_count": null,
   "metadata": {
    "scrolled": true
   },
   "outputs": [],
   "source": [
    "u,v = 3, 5, 7"
   ]
  },
  {
   "cell_type": "code",
   "execution_count": null,
   "metadata": {
    "scrolled": false
   },
   "outputs": [],
   "source": [
    "u, v, w = 3, 5"
   ]
  },
  {
   "cell_type": "markdown",
   "metadata": {
    "deletable": false,
    "editable": false,
    "run_control": {
     "frozen": true
    }
   },
   "source": [
    "## Exercice 2"
   ]
  },
  {
   "cell_type": "markdown",
   "metadata": {
    "deletable": false,
    "editable": false,
    "run_control": {
     "frozen": true
    }
   },
   "source": [
    "Ecrivez un programme qui demande à l'utilisateur d'introduire au clavier trois nombres réels et affiche le plus grand d'entre eux."
   ]
  },
  {
   "cell_type": "markdown",
   "metadata": {
    "deletable": false,
    "editable": false,
    "run_control": {
     "frozen": true
    }
   },
   "source": [
    "####  On donne ci-dessous un  exemple d'affichage suite à l'exécution du programme :\n",
    "\n",
    "Entrez le premier nombre réel, s.v.p. : -27.8\n",
    "\n",
    "Entrez le deuxième nombre réel, s.v.p. : 13.99\n",
    "\n",
    "Entrez le troisième nombre réel, s.v.p. : 0\n",
    "\n",
    "Le maximum est 13.99 !"
   ]
  },
  {
   "cell_type": "code",
   "execution_count": null,
   "metadata": {},
   "outputs": [],
   "source": [
    "x = input(\"Entrez le premier nombre réel, svp :\")\n",
    "y = input(\"Entrez le deuxième nombre réel, svp :\")\n",
    "z = input(\"Entrez le troisième nombre réel, svp :\")\n",
    "\n",
    "somme = int(x) + int(y) + int(z)\n",
    "\n",
    "print(\"Le maximum est\", somme)"
   ]
  },
  {
   "cell_type": "markdown",
   "metadata": {
    "deletable": false,
    "editable": false,
    "run_control": {
     "frozen": true
    }
   },
   "source": [
    "## Exercice 3"
   ]
  },
  {
   "cell_type": "markdown",
   "metadata": {
    "deletable": false,
    "editable": false,
    "run_control": {
     "frozen": true
    }
   },
   "source": [
    "Ecrivez un programme qui :\n",
    "- demande à l'utilisateur les trois coefficients réels d'une équation de **deuxième degré** de la forme : $ax^{2}+bx+c=0$  ;\n",
    "- calcule et affiche les racines de cette équation.\n",
    "\n",
    "Si le coefficient $a$ est null, le programme affiche un message approprié et ne fait pas de calcul."
   ]
  },
  {
   "cell_type": "markdown",
   "metadata": {
    "deletable": false,
    "editable": false,
    "run_control": {
     "frozen": true
    }
   },
   "source": [
    "####  On donne ci-dessous un premier exemple d'affichage suite à l'exécution du programme (un cas où l'équation de deuxième degré a deux racines réelles et confondues) :\n",
    "\n",
    "On résout une équation de 2ème degré !\n",
    "\n",
    "Le coefficient réel de x au carré, s.v.p : 1\n",
    "\n",
    "Le coefficient réel de x, s.v.p : -2\n",
    "\n",
    "Le terme libre réel,  s.v.p : 1\n",
    "\n",
    "Il y a deux solutions confondues : x1 = x2 = 1.0 !\n",
    "\n",
    "Au revoir !"
   ]
  },
  {
   "cell_type": "markdown",
   "metadata": {
    "deletable": false,
    "editable": false,
    "run_control": {
     "frozen": true
    }
   },
   "source": [
    "####  On donne ci-dessous un deuxième exemple d'affichage suite à l'exécution du programme (un cas où l'équation de deuxième degré a deux racines réelles et distinctes) :\n",
    "\n",
    "On résout une équation de 2ème degré !\n",
    "\n",
    "Le coefficient réel de x au carré, s.v.p : 1\n",
    "\n",
    "Le coefficient réel de x, s.v.p : 1\n",
    "\n",
    "Le terme libre réel,  s.v.p : -2\n",
    "\n",
    "Il y a 2 solutions réelles : x1 = 1.0 et x2 = -2.0 !\n",
    "\n",
    "Au revoir !"
   ]
  },
  {
   "cell_type": "markdown",
   "metadata": {
    "deletable": false,
    "editable": false,
    "run_control": {
     "frozen": true
    }
   },
   "source": [
    "####  On donne ci-dessous un troisième exemple d'affichage suite à l'exécution du programme (un cas où l'équation de deuxième degré a deux racines complexes conjuguées) :\n",
    "\n",
    "On résout une équation de 2ème degré !\n",
    "\n",
    "Le coefficient réel de x au carré, s.v.p : 1\n",
    "\n",
    "Le coefficient réel de x, s.v.p : 4\n",
    "\n",
    "Le terme libre réel,  s.v.p : 6.25\n",
    "\n",
    "Il y a deux solutions complexes conjuguées : z1 = (-2+1.5j) et z2 = (-2-1.5j) !\n",
    "\n",
    "Au revoir !"
   ]
  },
  {
   "cell_type": "markdown",
   "metadata": {
    "deletable": false,
    "editable": false,
    "run_control": {
     "frozen": true
    }
   },
   "source": [
    "####  On donne ci-dessous un quatrième exemple d'affichage suite à l'exécution du programme (le cas où l'équation n'est pas une équation de deuxième degré) :\n",
    "\n",
    "On résout une équation de 2ème degré !\n",
    "\n",
    "Le coefficient réel de x au carré, s.v.p : 0\n",
    "    \n",
    "Le coefficient réel de x, s.v.p : 2\n",
    "    \n",
    "Le terme libre réel,  s.v.p : -4\n",
    "    \n",
    "Ce n'est pas une équation de 2ème degré !\n",
    "\n",
    "Au revoir !"
   ]
  },
  {
   "cell_type": "code",
   "execution_count": 14,
   "metadata": {},
   "outputs": [
    {
     "name": "stdout",
     "output_type": "stream",
     "text": [
      "On résout une équation du 2eme degré\n",
      "Le coefficient réel de x au carré, s.v.p :0\n",
      "Le coefficient réel de x, s.v.p :1\n",
      "Le terme libre réel, s.v.p :2\n",
      "Ce n'est pas une équation du 2eme degré\n",
      "Au revoir\n"
     ]
    }
   ],
   "source": [
    "import cmath\n",
    "import math\n",
    "print(\"On résout une équation du 2eme degré\")\n",
    "\n",
    "a = float(input(\"Le coefficient réel de x au carré, s.v.p :\"))\n",
    "b = float(input(\"Le coefficient réel de x, s.v.p :\"))\n",
    "c = float(input(\"Le terme libre réel, s.v.p :\"))\n",
    "if a == 0 : \n",
    "    print(\"Ce n'est pas une équation du 2eme degré\")\n",
    "elif b**2-4*a*c < 0:\n",
    "    z1 = -b+ cmath.sqrt(b**2-4*a*c)/2*a\n",
    "    z2 = -b+ cmath.sqrt(b**2-4*a*c)/2*a\n",
    "    print(\"Il y a deux solutions complexes conjuguées : z1 =\", z1, \"z2 =\", z2)\n",
    "else:\n",
    "    x = -b+ math.sqrt(b**2-4*a*c)/2*a\n",
    "    y = -b- math.sqrt(b**2-4*a*c)/2*a\n",
    "    print(\"Il y a 2 solutions réelles : x1 = \", x1, \"x2 =\", x2)\n",
    "print(\"Au revoir !\")"
   ]
  },
  {
   "cell_type": "markdown",
   "metadata": {
    "deletable": false,
    "editable": false,
    "run_control": {
     "frozen": true
    }
   },
   "source": [
    "## Exercice 4"
   ]
  },
  {
   "cell_type": "markdown",
   "metadata": {
    "deletable": false,
    "editable": false,
    "run_control": {
     "frozen": true
    }
   },
   "source": [
    "Ecrivez un programme qui respecte les consignes suivantes :\n",
    "- on demande à l'utilisateur combien de nombres réels il veut introduire ;\n",
    "- si la réponse est un nombre entier strictement négatif ou zéro, le programme s'arrête avec un message d'erreur approprié ; \n",
    "- autrement (si la réponse est un nombre entier strictement positif) on demande à l'utilisateur d'introduire successivement (les uns après les autres) autant de nombres réels qu'annoncé ;\n",
    "- après l'introduction du dernier nombre réel, on affiche le maximum et le minimum des nombres réels introduits."
   ]
  },
  {
   "cell_type": "markdown",
   "metadata": {
    "deletable": false,
    "editable": false,
    "run_control": {
     "frozen": true
    }
   },
   "source": [
    "####  On donne ci-dessous un premier exemple d'affichage suite à l'exécution du programme :\n",
    "\n",
    "Combien de nombres réels voulez-vous introduire, s.v.p. : 5\n",
    "\n",
    "Entrez le nombre numéro 1, s.v.p. : -12\n",
    "\n",
    "Entrez le nombre numéro 2, s.v.p. : 55.5\n",
    "\n",
    "Entrez le nombre numéro 3, s.v.p. : -100.25\n",
    "\n",
    "Entrez le nombre numéro 4, s.v.p. : 0\n",
    "\n",
    "Entrez le nombre numéro 5, s.v.p. : -25.99\n",
    "\n",
    "Le maximum est : 55.5 !\n",
    "\n",
    "Le minimum est : -100.25 !"
   ]
  },
  {
   "cell_type": "markdown",
   "metadata": {
    "deletable": false,
    "editable": false,
    "run_control": {
     "frozen": true
    }
   },
   "source": [
    "####  On donne ci-dessous un deuxième exemple d'affichage suite à l'exécution du programme :\n",
    "\n",
    "Combien de nombres réels voulez-vous introduire, s.v.p. : -3\n",
    "\n",
    "La valeur introduite n'est pas valide !\n",
    "\n",
    "Au revoir !"
   ]
  },
  {
   "cell_type": "code",
   "execution_count": null,
   "metadata": {},
   "outputs": [
    {
     "name": "stdout",
     "output_type": "stream",
     "text": [
      "Combien de nombres réels voulez-vous introduire, s.v.p. : 4\n",
      "Entrez le nombre numéro s.v.p :5\n",
      "Entrez le nombre numéro s.v.p :6\n",
      "Entrez le nombre numéro s.v.p :5\n",
      "Entrez le nombre numéro s.v.p :6\n",
      "Entrez le nombre numéro s.v.p :6\n",
      "Entrez le nombre numéro s.v.p :5\n",
      "Entrez le nombre numéro s.v.p :4\n",
      "Entrez le nombre numéro s.v.p :7\n",
      "Entrez le nombre numéro s.v.p :-6\n"
     ]
    }
   ],
   "source": [
    "num_int = int(input(\"Combien de nombres réels voulez-vous introduire, s.v.p. : \"))\n",
    "if num_int <= 0:\n",
    "    print(\"La valeur introduite n'est pas valide !\")\n",
    "else:\n",
    "    x = 1\n",
    "    lis = []\n",
    "    while x <= num_int :\n",
    "        y = float(input(\"Entrez le nombre numéro s.v.p :\"))\n",
    "        lis.append(y)\n",
    "        if x >= num_int:\n",
    "            break\n",
    "    print(\"Le maximum est \", max(lis))\n",
    "    print(\"Le minimum est \", min(lis))\n",
    "print(\"Au revoir !\")"
   ]
  },
  {
   "cell_type": "markdown",
   "metadata": {
    "deletable": false,
    "editable": false,
    "run_control": {
     "frozen": true
    }
   },
   "source": [
    "##### Exercice 5"
   ]
  },
  {
   "cell_type": "markdown",
   "metadata": {
    "deletable": false,
    "editable": false,
    "run_control": {
     "frozen": true
    }
   },
   "source": [
    "Ecrivez un programme qui :\n",
    "-\tdemande à l'utilisateur d'introduire plusieurs notes comprises entre une valeur limite inférieure, par exemple 0, et une valeur limite supérieure, par exemple 6 ;\n",
    "-\tcalcule et affiche à l'écran la moyenne des notes introduites."
   ]
  },
  {
   "cell_type": "markdown",
   "metadata": {
    "deletable": false,
    "editable": false,
    "run_control": {
     "frozen": true
    }
   },
   "source": [
    "#### a) Version (qui ne respecte par toutes les consignes et) qui :\n",
    "- ne tient pas compte de la valeur de la note (on accepte n'importe quel nombre réel) ;\n",
    "- utilise une boucle conditionnelle sans instruction **break** ni instruction **continue**."
   ]
  },
  {
   "cell_type": "markdown",
   "metadata": {
    "deletable": false,
    "editable": false,
    "run_control": {
     "frozen": true
    }
   },
   "source": [
    "####  On donne ci-dessous un exemple d'affichage suite à l'exécution de la **version a)** du programme :\n",
    "\n",
    "Le programme calcule la moyenne des notes qui seront introduites !\n",
    "\n",
    "La première note, s.v.p : 5.5\n",
    "\n",
    "Il y a d'autres notes à introduire ? (Oui/Non) Oui\n",
    "\n",
    "La note suivante, s.v.p : 6\n",
    "\n",
    "Il y a d'autres notes à introduire ? (Oui/Non) oui\n",
    "\n",
    "La note suivante, s.v.p : 5\n",
    "\n",
    "Il y a d'autres notes à introduire ? (Oui/Non) non\n",
    "\n",
    "La moyenne des 3 notes introduites est :  5.5 !\n",
    "\n",
    "Au revoir !"
   ]
  },
  {
   "cell_type": "code",
   "execution_count": 9,
   "metadata": {},
   "outputs": [
    {
     "name": "stdout",
     "output_type": "stream",
     "text": [
      "Welcome to the grade calculator\n",
      "please input your grade : 5\n",
      "do u want to add more grades? (yes/no) no\n",
      "your avrage over  1 grades, is  5.0\n",
      "beyy\n"
     ]
    }
   ],
   "source": [
    "import math\n",
    "\n",
    "print(\"Welcome to the grade calculator\")\n",
    "# r = int(input(\"    please enter the range that your grades are based on \\n\"))\n",
    "mg = True\n",
    "t = 0\n",
    "s = 0\n",
    "while mg :\n",
    "    t = t+1 \n",
    "    s += int(input(\"please input your grade : \"))\n",
    "    ask = input('do u want to add more grades? (yes/no) ')\n",
    "    ask_cap = ask.capitalize()\n",
    "    if ask_cap == 'No':\n",
    "        break\n",
    "\n",
    "fft = s/t\n",
    "print(\"your avrage over \",t,\"grades, is \", fft,)\n",
    "print('beyy')"
   ]
  },
  {
   "cell_type": "markdown",
   "metadata": {
    "deletable": false,
    "editable": false,
    "run_control": {
     "frozen": true
    }
   },
   "source": [
    "### b) Version  (qui ne respecte par toutes les consignes et) qui :\n",
    "- ne tient pas compte de la valeur de la note (on accepte n'importe quel nombre réel) ;\n",
    "- utilise une boucle conditionnelle infinie et l'instruction **break**."
   ]
  },
  {
   "cell_type": "markdown",
   "metadata": {
    "deletable": false,
    "editable": false,
    "run_control": {
     "frozen": true
    }
   },
   "source": [
    "####  On donne ci-dessous un premier exemple d'affichage suite à l'exécution de la **version b)** du programme :\n",
    "\n",
    "Le programme calcule la moyenne des notes qui seront introduites !\n",
    "\n",
    "Il y a des notes à introduire ? (Oui/Non) : Oui\n",
    "\n",
    "La note, s.v.p : 5.5\n",
    "\n",
    "Il y a des notes à introduire ? (Oui/Non) : oui\n",
    "\n",
    "La note, s.v.p : 6\n",
    "\n",
    "Il y a des notes à introduire ? (Oui/Non) : Oui\n",
    "\n",
    "La note, s.v.p : 5\n",
    "\n",
    "Il y a des notes à introduire ? (Oui/Non) : Non\n",
    "\n",
    "La moyenne des 3 notes introduites est :  5.5 !\n",
    "\n",
    "Au revoir !"
   ]
  },
  {
   "cell_type": "markdown",
   "metadata": {
    "deletable": false,
    "editable": false,
    "run_control": {
     "frozen": true
    }
   },
   "source": [
    "####  On donne ci-dessous un deuxième exemple d'affichage suite à l'exécution de la **version b)** du programme :\n",
    "\n",
    "Le programme calcule la moyenne des notes qui seront introduites !\n",
    "\n",
    "Il y a des notes à introduire ? (Oui/Non) : Non\n",
    "\n",
    "Pas de note, pas de moyenne !\n",
    "\n",
    "Au revoir !"
   ]
  },
  {
   "cell_type": "code",
   "execution_count": null,
   "metadata": {},
   "outputs": [],
   "source": []
  },
  {
   "cell_type": "markdown",
   "metadata": {
    "deletable": false,
    "editable": false,
    "run_control": {
     "frozen": true
    }
   },
   "source": [
    "### c) Version qui  :\n",
    "- tient compte des limites imposées pour la valeur de la note et utilise l'instruction **continue** (et, éventuellement, **break**) ;\n",
    "- arrête la boucle quand l'utilisateur introduit une valeur **sentinelle** pour la \"note\", par exemple **-1**."
   ]
  },
  {
   "cell_type": "markdown",
   "metadata": {
    "deletable": false,
    "editable": false,
    "run_control": {
     "frozen": true
    }
   },
   "source": [
    "####  On donne ci-dessous un exemple d'affichage suite à l'exécution de la **version c)** du programme :\n",
    "\n",
    "Le programme calcule la moyenne des notes qui seront introduites !\n",
    "\n",
    "Les notes doivent être comprises entre 0 et 6 !\n",
    "\n",
    "La \"note\" -1 indique la fin de l'introduction des notes !\n",
    "\n",
    "Introduisez la note (-1 pour s'arêter), s.v.p. : 5.5\n",
    "\n",
    "Introduisez la note (-1 pour s'arêter), s.v.p. : 7\n",
    "\n",
    "Note non valide ! Elle n'est pas prise en compte !\n",
    "\n",
    "Introduisez la note (-1 pour s'arêter), s.v.p. : 6\n",
    "\n",
    "Introduisez la note (-1 pour s'arêter), s.v.p. : 5\n",
    "\n",
    "Introduisez la note (-1 pour s'arêter), s.v.p. : -1\n",
    "\n",
    "La moyenne des 3 notes (valides) introduites est :  5.5 !\n",
    "\n",
    "Au revoir !"
   ]
  },
  {
   "cell_type": "code",
   "execution_count": null,
   "metadata": {},
   "outputs": [
    {
     "name": "stdout",
     "output_type": "stream",
     "text": [
      "Welcome to the grade calculator\n",
      "please input your grade : 5\n",
      "do u want to add more grades? (yes/no) yes\n",
      "please input your grade : 5\n",
      "Note non valide ! Elle n'est pas prise en compte !\n"
     ]
    }
   ],
   "source": [
    "import math\n",
    "\n",
    "print(\"Welcome to the grade calculator\")\n",
    "# r = int(input(\"    please enter the range that your grades are based on \\n\"))\n",
    "mg = True\n",
    "t = 0\n",
    "s = 0\n",
    "while mg :\n",
    "    t = t+1 \n",
    "    s += int(input(\"please input your grade : \"))\n",
    "    if int(s) > 6:\n",
    "        v = s\n",
    "        print(\"Note non valide ! Elle n'est pas prise en compte !\")\n",
    "        continue\n",
    "    ask = input('do u want to add more grades? (yes/no) ')\n",
    "    ask_cap = ask.capitalize()\n",
    "    if ask_cap == 'No':\n",
    "        mg = False\n",
    "\n",
    "fft = s-v/t\n",
    "print(\"your avrage over \",t,\"grades, is \", fft,)\n",
    "print('beyy')"
   ]
  },
  {
   "cell_type": "code",
   "execution_count": null,
   "metadata": {},
   "outputs": [],
   "source": []
  }
 ],
 "metadata": {
  "kernelspec": {
   "display_name": "Python 3",
   "language": "python",
   "name": "python3"
  },
  "language_info": {
   "codemirror_mode": {
    "name": "ipython",
    "version": 3
   },
   "file_extension": ".py",
   "mimetype": "text/x-python",
   "name": "python",
   "nbconvert_exporter": "python",
   "pygments_lexer": "ipython3",
   "version": "3.8.5"
  },
  "latex_envs": {
   "LaTeX_envs_menu_present": true,
   "autoclose": false,
   "autocomplete": true,
   "bibliofile": "biblio.bib",
   "cite_by": "apalike",
   "current_citInitial": 1,
   "eqLabelWithNumbers": true,
   "eqNumInitial": 1,
   "hotkeys": {
    "equation": "Ctrl-E",
    "itemize": "Ctrl-I"
   },
   "labels_anchors": false,
   "latex_user_defs": false,
   "report_style_numbering": false,
   "user_envs_cfg": false
  }
 },
 "nbformat": 4,
 "nbformat_minor": 4
}
